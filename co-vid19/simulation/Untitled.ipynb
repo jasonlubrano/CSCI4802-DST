{
 "cells": [
  {
   "cell_type": "markdown",
   "metadata": {},
   "source": [
    "# Flattening the Curve is Just a Theory, a Simulation\n",
    "## Chamorro, Andrea and Lubrano, Jason A.\n",
    "### University of Colorado Boulder Department of Computer Science"
   ]
  },
  {
   "cell_type": "markdown",
   "metadata": {},
   "source": [
    "#### ABSTRACT\n",
    "\n",
    "With the recent events of the COVID-19 breakoutk, we hear the term flatten the curve constantly. \"Social Distancing\" is the term that is used by scientist to desribe the behaviorial actions people should take in order to mitigate this disease. How well does social distancing actually protect someone against COVID-19? In this simulation, we build a small community of peeps who have an outbreak of a virus similar to the corona virus. This simulation takes an indepth look at the statistics behind social distancing and hopes to gain a greater insight to the advantages and disadvantages to staying home."
   ]
  },
  {
   "cell_type": "markdown",
   "metadata": {},
   "source": [
    "## I. Background on Social Distancing\n",
    "-> andrea find topics about social distancing, referencing papers etc etc"
   ]
  },
  {
   "cell_type": "markdown",
   "metadata": {},
   "source": [
    "## II. Simulation Deliberation: \n",
    "By building a simulation, we will study the effects of corona viruses similar to COVID-19 would have on a small community of peeps. The peeps in the simulation will follow a set of rules and guidelines, listed below. Of these rules and guidelines, we are able to easily gather statistics and data of the community multiple times over.\n",
    "\n",
    "1. We start our community with a population of 100 peeps.\n",
    "2. A roll is a simulation step in which a peep can travel from home to go to the store, spend a roll at the store, then spend a roll going back home.\n",
    "3. The peeps have three main personalities: homebodies, semi-homies, and outgoers.\n",
    "4. The homebodies can only go to two locations: home and to the store when they run out of supplies.\n",
    "5. The semi-homies travel from home to the store and the park.\n",
    "6. The outgoers travel from home to restaurants, stores, parks, retail stores, and parties.\n",
    "7. We have rules for the virus such that it may exist on a peep for a random value between and including 7-14 rolls.\n",
    "8. When a peep gets the virus, there is a 1 out of 25 chance they will die immediately, but the risk is only taken at the start of an infection.\n",
    "9. The virus can stay in a location for 2 rolls, infecting peeps at a rate of 2%.\n",
    "10. Supplies are what keeps the peeps alive, and one supply is used per day.\n",
    "11. Peeps go to the store for supplies and buy a random amount of 1-14 supplies, except for homebodies who always buy 14 supplies, but their chance at infection is doubled.\n",
    "12. A peep gets the virus by going to a contaminated location and a location becomes contaminated from an infected peep.\n",
    "13. When a peep has the virus, it does not leave its house - not even to get supplies at the store, except for the outgoing peep, who is a total jerk and doesn’t care about anyone else.\n",
    "14. Once a peep has the virus then the virus doesn’t spread or stack. Meaning, if the virus is already lasting for 4 days on a peep, that number will not grow to 8 days.\n",
    "15. Once a peep has recovered from the virus, they are immune from getting the virus again.\n",
    "16. If a peep has the virus and runs out of supplies, and if they are unable to go to the store, that peep dies.\n",
    "\n",
    "An example run of the simulation would go as follows: a homebody peep goes to the store because it ran out of supplies. The store is infected, and the unlucky homebody peep gets the virus due to its infection rate being doubled. The peep is even more unlucky when the virus decides to last on him a whopping 14 days. At the end of the 14th day, the homebody peep runs out of supplies and dies of the disease.\n",
    "\n",
    "This example is the kind of insight we want to gather in our project. The peep did what it was supposed to do and died anyway. But, how much death of homebody peeps would happen on a simulation of 100 rolls? 1000 rolls? 10000 rolls? Would the virus eventually die out before peeps died out? Through multiple simulations, we want to find out whether the level of homebody peeps be safe, helpful, or not important to the disease. Does the mortality rate increase or decrease linearly based on the number of personalities? Although simple, this simulation could be expanded to support populations of that of large cities with numbers that are more precise. This is only a small demonstration of how to challenge social-distancing and come up with new ways to mitigate viruses spreading."
   ]
  },
  {
   "cell_type": "code",
   "execution_count": null,
   "metadata": {},
   "outputs": [],
   "source": []
  }
 ],
 "metadata": {
  "kernelspec": {
   "display_name": "Python 3",
   "language": "python",
   "name": "python3"
  },
  "language_info": {
   "codemirror_mode": {
    "name": "ipython",
    "version": 3
   },
   "file_extension": ".py",
   "mimetype": "text/x-python",
   "name": "python",
   "nbconvert_exporter": "python",
   "pygments_lexer": "ipython3",
   "version": "3.7.3"
  }
 },
 "nbformat": 4,
 "nbformat_minor": 2
}
